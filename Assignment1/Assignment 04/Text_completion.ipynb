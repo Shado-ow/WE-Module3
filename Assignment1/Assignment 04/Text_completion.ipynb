{
  "nbformat": 4,
  "nbformat_minor": 0,
  "metadata": {
    "colab": {
      "provenance": []
    },
    "kernelspec": {
      "name": "python3",
      "display_name": "Python 3"
    },
    "language_info": {
      "name": "python"
    }
  },
  "cells": [
    {
      "cell_type": "code",
      "execution_count": null,
      "metadata": {
        "id": "BLxOaDPf-mg9"
      },
      "outputs": [],
      "source": [
        "#text completion using markov chains\n",
        "\n",
        "import random\n",
        "\n",
        "def generate_text(corpus_text, start_word, output_length):\n",
        "  \"\"\"\n",
        "  Generates text of a given length using a bigram Markov chain model.\n",
        "\n",
        "  Args:\n",
        "      corpus_text: A string containing the text corpus for training.\n",
        "      start_word: The word to start the generated text.\n",
        "      output_length: The desired length of the generated text.\n",
        "\n",
        "  Returns:\n",
        "      A string containing the generated text.\n",
        "  \"\"\"\n",
        "\n",
        "  # Clean and preprocess the corpus\n",
        "  corpus_text = corpus_text.lower()\n",
        "  corpus_text = corpus_text.replace(\",\", \"\").replace(\".\", \"\").replace(\"!\", \"\").replace(\"?\", \"\")\n",
        "  words = corpus_text.split()\n",
        "\n",
        "  # Check for empty corpus\n",
        "  if not words:\n",
        "    return \"Error: Empty corpus. No data to train the model.\"\n",
        "\n",
        "  # Create a dictionary to store word transitions\n",
        "  transitions = {}\n",
        "  for i in range(len(words) - 1):\n",
        "    current_word = words[i]\n",
        "    next_word = words[i + 1]\n",
        "    if current_word not in transitions:\n",
        "      transitions[current_word] = {}\n",
        "    transitions[current_word][next_word] = transitions[current_word].get(next_word, 0) + 1\n",
        "\n",
        "  # Generate text starting from the given word\n",
        "  output_text = [start_word]\n",
        "  for _ in range(output_length - 1):\n",
        "    current_word = output_text[-1]\n",
        "    if current_word not in transitions:\n",
        "      # Handle unseen words by randomly choosing a word\n",
        "      next_word = random.choice(words)\n",
        "    else:\n",
        "      # Sample the next word based on probability distribution\n",
        "      total_count = sum(transitions[current_word].values())\n",
        "      probabilities = {word: count / total_count for word, count in transitions[current_word].items()}\n",
        "      next_word = random.choices(list(probabilities.keys()), weights=list(probabilities.values()))[0]\n",
        "    output_text.append(next_word)\n",
        "\n",
        "  return \" \".join(output_text)\n"
      ]
    },
    {
      "cell_type": "code",
      "source": [
        "# Sample corpus text (replace with your own text)\n",
        "corpus_text = \"The sun shone brightly in the sky. The birds sang sweetly in the trees. A gentle breeze blew through the air. Flowers bloomed in all their colors. Children played happily in the park. It was a beautiful day.\""
      ],
      "metadata": {
        "id": "LaTlXHl0OiHS"
      },
      "execution_count": null,
      "outputs": []
    },
    {
      "cell_type": "code",
      "source": [
        "# Example usage\n",
        "text = generate_text(corpus_text, \"The\", 20)\n",
        "print(text)"
      ],
      "metadata": {
        "colab": {
          "base_uri": "https://localhost:8080/"
        },
        "id": "FXwSIouDOezS",
        "outputId": "713919e9-32ff-4263-b006-ab9143dc2fe3"
      },
      "execution_count": null,
      "outputs": [
        {
          "output_type": "stream",
          "name": "stdout",
          "text": [
            "The beautiful day sky the park it was a beautiful day children played happily in the park it was a\n"
          ]
        }
      ]
    },
    {
      "cell_type": "code",
      "source": [
        "corpus_text = \"I like to eat pizza.\"\n",
        "start_word = \"I\"\n",
        "output_length = 7\n",
        "generate_text(corpus_text, start_word, output_length)"
      ],
      "metadata": {
        "colab": {
          "base_uri": "https://localhost:8080/",
          "height": 36
        },
        "id": "nnFAtKxlQHpn",
        "outputId": "ac37323f-a040-44ba-a225-31ef0d37a9c8"
      },
      "execution_count": null,
      "outputs": [
        {
          "output_type": "execute_result",
          "data": {
            "text/plain": [
              "'I i like to eat pizza pizza'"
            ],
            "application/vnd.google.colaboratory.intrinsic+json": {
              "type": "string"
            }
          },
          "metadata": {},
          "execution_count": 4
        }
      ]
    },
    {
      "cell_type": "code",
      "source": [
        "corpus_text = \"\" #(Empty string)\n",
        "start_word = \"The\"\n",
        "output_length = 5\n",
        "generate_text(corpus_text, start_word, output_length)"
      ],
      "metadata": {
        "colab": {
          "base_uri": "https://localhost:8080/",
          "height": 36
        },
        "id": "AcASVPdFQUAl",
        "outputId": "b430449a-4813-4d05-fa8d-924fa5b2c9aa"
      },
      "execution_count": null,
      "outputs": [
        {
          "output_type": "execute_result",
          "data": {
            "text/plain": [
              "'Error: Empty corpus. No data to train the model.'"
            ],
            "application/vnd.google.colaboratory.intrinsic+json": {
              "type": "string"
            }
          },
          "metadata": {},
          "execution_count": 5
        }
      ]
    },
    {
      "cell_type": "code",
      "source": [
        "corpus_text = \"The quick brown fox jumps over the lazy dog.\" #(Longer corpus)\n",
        "start_word = \"The\"\n",
        "output_length = 1\n",
        "generate_text(corpus_text, start_word, output_length)"
      ],
      "metadata": {
        "colab": {
          "base_uri": "https://localhost:8080/",
          "height": 36
        },
        "id": "VsyRF1TeQsTn",
        "outputId": "b7e3e847-a3d6-40fb-967e-5c52bc1fd7e4"
      },
      "execution_count": null,
      "outputs": [
        {
          "output_type": "execute_result",
          "data": {
            "text/plain": [
              "'The'"
            ],
            "application/vnd.google.colaboratory.intrinsic+json": {
              "type": "string"
            }
          },
          "metadata": {},
          "execution_count": 6
        }
      ]
    }
  ]
} 
